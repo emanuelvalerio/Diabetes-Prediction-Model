{
 "cells": [
  {
   "cell_type": "code",
   "execution_count": 1,
   "id": "0bae8a52-ad58-480b-bcf3-0d38f708fea5",
   "metadata": {},
   "outputs": [],
   "source": [
    "# Create by Emanuel Valério based on Cap11 Fundamentos Python 3.0 science academy"
   ]
  },
  {
   "cell_type": "code",
   "execution_count": null,
   "id": "c236ae04-8984-4fec-8a1b-9a5f438d4dfb",
   "metadata": {},
   "outputs": [],
   "source": [
    "# Library's import\n",
    "import numpy as np\n",
    "import pandas as pd\n",
    "import matplotlib.pyplot as plt\n",
    "%matplotlib inline"
   ]
  },
  {
   "cell_type": "code",
   "execution_count": 2,
   "id": "8c956156-acc6-4370-b10c-45e83e083aac",
   "metadata": {},
   "outputs": [],
   "source": [
    "#Loading the datasets\n",
    "df = pd.read_csv(\"pima-data.csv\")  "
   ]
  },
  {
   "cell_type": "code",
   "execution_count": 3,
   "id": "386b1984-520b-40a9-a051-29e34cc310de",
   "metadata": {},
   "outputs": [
    {
     "data": {
      "text/plain": [
       "(768, 10)"
      ]
     },
     "execution_count": 3,
     "metadata": {},
     "output_type": "execute_result"
    }
   ],
   "source": [
    "df.shape # shows the dimensions of database"
   ]
  },
  {
   "cell_type": "code",
   "execution_count": 4,
   "id": "2bc37dc0-282f-4a26-b06c-95878befc731",
   "metadata": {},
   "outputs": [
    {
     "data": {
      "text/html": [
       "<div>\n",
       "<style scoped>\n",
       "    .dataframe tbody tr th:only-of-type {\n",
       "        vertical-align: middle;\n",
       "    }\n",
       "\n",
       "    .dataframe tbody tr th {\n",
       "        vertical-align: top;\n",
       "    }\n",
       "\n",
       "    .dataframe thead th {\n",
       "        text-align: right;\n",
       "    }\n",
       "</style>\n",
       "<table border=\"1\" class=\"dataframe\">\n",
       "  <thead>\n",
       "    <tr style=\"text-align: right;\">\n",
       "      <th></th>\n",
       "      <th>num_preg</th>\n",
       "      <th>glucose_conc</th>\n",
       "      <th>diastolic_bp</th>\n",
       "      <th>thickness</th>\n",
       "      <th>insulin</th>\n",
       "      <th>bmi</th>\n",
       "      <th>diab_pred</th>\n",
       "      <th>age</th>\n",
       "      <th>skin</th>\n",
       "      <th>diabetes</th>\n",
       "    </tr>\n",
       "  </thead>\n",
       "  <tbody>\n",
       "    <tr>\n",
       "      <th>0</th>\n",
       "      <td>6</td>\n",
       "      <td>148</td>\n",
       "      <td>72</td>\n",
       "      <td>35</td>\n",
       "      <td>0</td>\n",
       "      <td>33.6</td>\n",
       "      <td>0.627</td>\n",
       "      <td>50</td>\n",
       "      <td>1.3780</td>\n",
       "      <td>True</td>\n",
       "    </tr>\n",
       "    <tr>\n",
       "      <th>1</th>\n",
       "      <td>1</td>\n",
       "      <td>85</td>\n",
       "      <td>66</td>\n",
       "      <td>29</td>\n",
       "      <td>0</td>\n",
       "      <td>26.6</td>\n",
       "      <td>0.351</td>\n",
       "      <td>31</td>\n",
       "      <td>1.1426</td>\n",
       "      <td>False</td>\n",
       "    </tr>\n",
       "    <tr>\n",
       "      <th>2</th>\n",
       "      <td>8</td>\n",
       "      <td>183</td>\n",
       "      <td>64</td>\n",
       "      <td>0</td>\n",
       "      <td>0</td>\n",
       "      <td>23.3</td>\n",
       "      <td>0.672</td>\n",
       "      <td>32</td>\n",
       "      <td>0.0000</td>\n",
       "      <td>True</td>\n",
       "    </tr>\n",
       "    <tr>\n",
       "      <th>3</th>\n",
       "      <td>1</td>\n",
       "      <td>89</td>\n",
       "      <td>66</td>\n",
       "      <td>23</td>\n",
       "      <td>94</td>\n",
       "      <td>28.1</td>\n",
       "      <td>0.167</td>\n",
       "      <td>21</td>\n",
       "      <td>0.9062</td>\n",
       "      <td>False</td>\n",
       "    </tr>\n",
       "    <tr>\n",
       "      <th>4</th>\n",
       "      <td>0</td>\n",
       "      <td>137</td>\n",
       "      <td>40</td>\n",
       "      <td>35</td>\n",
       "      <td>168</td>\n",
       "      <td>43.1</td>\n",
       "      <td>2.288</td>\n",
       "      <td>33</td>\n",
       "      <td>1.3790</td>\n",
       "      <td>True</td>\n",
       "    </tr>\n",
       "    <tr>\n",
       "      <th>5</th>\n",
       "      <td>5</td>\n",
       "      <td>116</td>\n",
       "      <td>74</td>\n",
       "      <td>0</td>\n",
       "      <td>0</td>\n",
       "      <td>25.6</td>\n",
       "      <td>0.201</td>\n",
       "      <td>30</td>\n",
       "      <td>0.0000</td>\n",
       "      <td>False</td>\n",
       "    </tr>\n",
       "    <tr>\n",
       "      <th>6</th>\n",
       "      <td>3</td>\n",
       "      <td>78</td>\n",
       "      <td>50</td>\n",
       "      <td>32</td>\n",
       "      <td>88</td>\n",
       "      <td>31.0</td>\n",
       "      <td>0.248</td>\n",
       "      <td>26</td>\n",
       "      <td>1.2608</td>\n",
       "      <td>True</td>\n",
       "    </tr>\n",
       "    <tr>\n",
       "      <th>7</th>\n",
       "      <td>10</td>\n",
       "      <td>115</td>\n",
       "      <td>0</td>\n",
       "      <td>0</td>\n",
       "      <td>0</td>\n",
       "      <td>35.3</td>\n",
       "      <td>0.134</td>\n",
       "      <td>29</td>\n",
       "      <td>0.0000</td>\n",
       "      <td>False</td>\n",
       "    </tr>\n",
       "    <tr>\n",
       "      <th>8</th>\n",
       "      <td>2</td>\n",
       "      <td>197</td>\n",
       "      <td>70</td>\n",
       "      <td>45</td>\n",
       "      <td>543</td>\n",
       "      <td>30.5</td>\n",
       "      <td>0.158</td>\n",
       "      <td>53</td>\n",
       "      <td>1.7730</td>\n",
       "      <td>True</td>\n",
       "    </tr>\n",
       "    <tr>\n",
       "      <th>9</th>\n",
       "      <td>8</td>\n",
       "      <td>125</td>\n",
       "      <td>96</td>\n",
       "      <td>0</td>\n",
       "      <td>0</td>\n",
       "      <td>0.0</td>\n",
       "      <td>0.232</td>\n",
       "      <td>54</td>\n",
       "      <td>0.0000</td>\n",
       "      <td>True</td>\n",
       "    </tr>\n",
       "  </tbody>\n",
       "</table>\n",
       "</div>"
      ],
      "text/plain": [
       "   num_preg  glucose_conc  diastolic_bp  thickness  insulin   bmi  diab_pred  \\\n",
       "0         6           148            72         35        0  33.6      0.627   \n",
       "1         1            85            66         29        0  26.6      0.351   \n",
       "2         8           183            64          0        0  23.3      0.672   \n",
       "3         1            89            66         23       94  28.1      0.167   \n",
       "4         0           137            40         35      168  43.1      2.288   \n",
       "5         5           116            74          0        0  25.6      0.201   \n",
       "6         3            78            50         32       88  31.0      0.248   \n",
       "7        10           115             0          0        0  35.3      0.134   \n",
       "8         2           197            70         45      543  30.5      0.158   \n",
       "9         8           125            96          0        0   0.0      0.232   \n",
       "\n",
       "   age    skin  diabetes  \n",
       "0   50  1.3780      True  \n",
       "1   31  1.1426     False  \n",
       "2   32  0.0000      True  \n",
       "3   21  0.9062     False  \n",
       "4   33  1.3790      True  \n",
       "5   30  0.0000     False  \n",
       "6   26  1.2608      True  \n",
       "7   29  0.0000     False  \n",
       "8   53  1.7730      True  \n",
       "9   54  0.0000      True  "
      ]
     },
     "execution_count": 4,
     "metadata": {},
     "output_type": "execute_result"
    }
   ],
   "source": [
    "df.head(10) # shows the first ten datas"
   ]
  },
  {
   "cell_type": "code",
   "execution_count": 5,
   "id": "6a09e5fb-9910-4cff-9813-cb4f36d28a00",
   "metadata": {},
   "outputs": [
    {
     "data": {
      "text/html": [
       "<div>\n",
       "<style scoped>\n",
       "    .dataframe tbody tr th:only-of-type {\n",
       "        vertical-align: middle;\n",
       "    }\n",
       "\n",
       "    .dataframe tbody tr th {\n",
       "        vertical-align: top;\n",
       "    }\n",
       "\n",
       "    .dataframe thead th {\n",
       "        text-align: right;\n",
       "    }\n",
       "</style>\n",
       "<table border=\"1\" class=\"dataframe\">\n",
       "  <thead>\n",
       "    <tr style=\"text-align: right;\">\n",
       "      <th></th>\n",
       "      <th>num_preg</th>\n",
       "      <th>glucose_conc</th>\n",
       "      <th>diastolic_bp</th>\n",
       "      <th>thickness</th>\n",
       "      <th>insulin</th>\n",
       "      <th>bmi</th>\n",
       "      <th>diab_pred</th>\n",
       "      <th>age</th>\n",
       "      <th>skin</th>\n",
       "      <th>diabetes</th>\n",
       "    </tr>\n",
       "  </thead>\n",
       "  <tbody>\n",
       "    <tr>\n",
       "      <th>765</th>\n",
       "      <td>5</td>\n",
       "      <td>121</td>\n",
       "      <td>72</td>\n",
       "      <td>23</td>\n",
       "      <td>112</td>\n",
       "      <td>26.2</td>\n",
       "      <td>0.245</td>\n",
       "      <td>30</td>\n",
       "      <td>0.9062</td>\n",
       "      <td>False</td>\n",
       "    </tr>\n",
       "    <tr>\n",
       "      <th>766</th>\n",
       "      <td>1</td>\n",
       "      <td>126</td>\n",
       "      <td>60</td>\n",
       "      <td>0</td>\n",
       "      <td>0</td>\n",
       "      <td>30.1</td>\n",
       "      <td>0.349</td>\n",
       "      <td>47</td>\n",
       "      <td>0.0000</td>\n",
       "      <td>True</td>\n",
       "    </tr>\n",
       "    <tr>\n",
       "      <th>767</th>\n",
       "      <td>1</td>\n",
       "      <td>93</td>\n",
       "      <td>70</td>\n",
       "      <td>31</td>\n",
       "      <td>0</td>\n",
       "      <td>30.4</td>\n",
       "      <td>0.315</td>\n",
       "      <td>23</td>\n",
       "      <td>1.2214</td>\n",
       "      <td>False</td>\n",
       "    </tr>\n",
       "  </tbody>\n",
       "</table>\n",
       "</div>"
      ],
      "text/plain": [
       "     num_preg  glucose_conc  diastolic_bp  thickness  insulin   bmi  \\\n",
       "765         5           121            72         23      112  26.2   \n",
       "766         1           126            60          0        0  30.1   \n",
       "767         1            93            70         31        0  30.4   \n",
       "\n",
       "     diab_pred  age    skin  diabetes  \n",
       "765      0.245   30  0.9062     False  \n",
       "766      0.349   47  0.0000      True  \n",
       "767      0.315   23  1.2214     False  "
      ]
     },
     "execution_count": 5,
     "metadata": {},
     "output_type": "execute_result"
    }
   ],
   "source": [
    "df.tail(3) # shows the last three datas"
   ]
  },
  {
   "cell_type": "code",
   "execution_count": 6,
   "id": "bc967c35-15ec-4134-b55a-58bf3fce1dd3",
   "metadata": {},
   "outputs": [
    {
     "data": {
      "text/plain": [
       "False"
      ]
     },
     "execution_count": 6,
     "metadata": {},
     "output_type": "execute_result"
    }
   ],
   "source": [
    "df.isnull().values.any() # checking for null values"
   ]
  },
  {
   "cell_type": "code",
   "execution_count": 7,
   "id": "bf0a5e09-e4d5-45dc-9dc8-d81be4debe00",
   "metadata": {},
   "outputs": [],
   "source": [
    "# Create module to check data correlation\n",
    "# correlation does not imply causality\n",
    "def plot_correlation(df,size=10):\n",
    "    corr = df.corr()\n",
    "    fig,ax = plt.subplots(figsize = (size,size))\n",
    "    ax.matshow(corr)\n",
    "    plt.xticks(range(len(corr.columns)),corr.columns)\n",
    "    plt.yticks(range(len(corr.columns)),corr.columns)"
   ]
  },
  {
   "cell_type": "code",
   "execution_count": 8,
   "id": "e6e06fd4-b5ed-458d-8165-22440797b835",
   "metadata": {},
   "outputs": [
    {
     "data": {
      "image/png": "[encoded data removed]",
      "text/plain": [
       "<Figure size 1000x1000 with 1 Axes>"
      ]
     },
     "metadata": {},
     "output_type": "display_data"
    }
   ],
   "source": [
    "plot_correlation(df)"
   ]
  },
  {
   "cell_type": "code",
   "execution_count": 9,
   "id": "23bb415d-0737-462f-baaf-96f970f6769f",
   "metadata": {},
   "outputs": [],
   "source": [
    "diabetes_map = {True : 1 , False: 0} # Changing strings values to numerics\n",
    "df['diabetes'] = df['diabetes'].map(diabetes_map);"
   ]
  },
  {
   "cell_type": "code",
   "execution_count": 10,
   "id": "565b4f86-d481-4dcc-a8b1-6c111b3e2b99",
   "metadata": {},
   "outputs": [
    {
     "name": "stdout",
     "output_type": "stream",
     "text": [
      "Número de casos verdadeiros: 268 (34.90%)\n",
      "Número de casos Falsos: 500 (65.10%)\n"
     ]
    }
   ],
   "source": [
    "numTrue = len(df.loc[df['diabetes'] == 1]);\n",
    "numFalse = len(df.loc[df['diabetes'] == 0]);\n",
    "print(\"Número de casos verdadeiros: {0} ({1:2.2f}%)\".format(numTrue,(numTrue /( numTrue + numFalse)) *100 ));\n",
    "print(\"Número de casos Falsos: {0} ({1:2.2f}%)\".format(numFalse,(numFalse /( numTrue + numFalse)) * 100 ));"
   ]
  },
  {
   "cell_type": "code",
   "execution_count": 11,
   "id": "aa31d4fb-af26-4265-878d-8f12123453d3",
   "metadata": {},
   "outputs": [],
   "source": [
    "# SPLITTING"
   ]
  },
  {
   "cell_type": "code",
   "execution_count": 12,
   "id": "33c08408-62c2-4efe-84a4-9d314618fd49",
   "metadata": {},
   "outputs": [],
   "source": [
    "from sklearn.model_selection import train_test_split # importing the scikit-learn"
   ]
  },
  {
   "cell_type": "code",
   "execution_count": 13,
   "id": "93514d56-8681-4cfe-b5c0-c939478f75ee",
   "metadata": {},
   "outputs": [],
   "source": [
    "# Feature selection\n",
    "features = ['num_preg','glucose_conc','diastolic_bp','thickness','insulin','bmi','diab_pred','age']"
   ]
  },
  {
   "cell_type": "code",
   "execution_count": 14,
   "id": "cbf1fa31-ff43-44cd-90d8-b1fda5a0d1a2",
   "metadata": {},
   "outputs": [],
   "source": [
    "# target variable\n",
    "atrib_prev = ['diabetes']"
   ]
  },
  {
   "cell_type": "code",
   "execution_count": 16,
   "id": "26379593-9645-40d7-8574-a93904e26a8b",
   "metadata": {},
   "outputs": [],
   "source": [
    "# create objects\n",
    "x = df[features].values\n",
    "y = df[atrib_prev].values"
   ]
  },
  {
   "cell_type": "code",
   "execution_count": 18,
   "id": "6a6fbc08-f8fc-4c81-b60a-28465a024d60",
   "metadata": {},
   "outputs": [],
   "source": [
    "# defining the split rate\n",
    "splitTestSize = 0.3;"
   ]
  },
  {
   "cell_type": "code",
   "execution_count": 21,
   "id": "a7e2433f-6b05-446b-997d-4d3b1e1c6b71",
   "metadata": {},
   "outputs": [],
   "source": [
    "# Creating training and test data\n",
    "xTrain, xTest, yTrain, yTest = train_test_split(x,y,test_size = splitTestSize,random_state=42);\n"
   ]
  },
  {
   "cell_type": "code",
   "execution_count": 22,
   "id": "25e5f2fd-f09c-4ce7-b977-575923ce0eb2",
   "metadata": {},
   "outputs": [
    {
     "name": "stdout",
     "output_type": "stream",
     "text": [
      "69.92% nos dados de treinos \n",
      "30.08% nos dados de testes \n"
     ]
    }
   ],
   "source": [
    "# Printing the results\n",
    "print(\"{0:0.2f}% nos dados de treinos \".format(len(xTrain)/len(df.index) * 100 ));\n",
    "print(\"{0:0.2f}% nos dados de testes \".format(len(xTest)/len(df.index) * 100 ));"
   ]
  },
  {
   "cell_type": "code",
   "execution_count": 23,
   "id": "1c6d91fe-fd8b-4a1d-8624-26b41d20b171",
   "metadata": {},
   "outputs": [],
   "source": [
    "# HANDLING MISSING DATA"
   ]
  },
  {
   "cell_type": "code",
   "execution_count": 28,
   "id": "0e77df66-0f6c-4fed-9f27-e563c8cf7077",
   "metadata": {},
   "outputs": [],
   "source": [
    "from sklearn.impute import SimpleImputer"
   ]
  },
  {
   "cell_type": "code",
   "execution_count": 31,
   "id": "39809256-1e25-419a-9166-662d2e2ec433",
   "metadata": {},
   "outputs": [],
   "source": [
    "filling_0 = SimpleImputer(missing_values=0,strategy = 'mean');"
   ]
  },
  {
   "cell_type": "code",
   "execution_count": 34,
   "id": "265fb1ff-aa95-4868-af29-3abfef94401a",
   "metadata": {},
   "outputs": [],
   "source": [
    "# Replacing the values equal to zero by the avarege of the data\n",
    "xTrain = filling_0.fit_transform(xTrain);\n",
    "xTest = filling_0.fit_transform(xTest);"
   ]
  },
  {
   "cell_type": "code",
   "execution_count": 35,
   "id": "e4644975-447e-4072-929f-69f47518a470",
   "metadata": {},
   "outputs": [],
   "source": [
    "# building and training the model\n",
    "from sklearn.naive_bayes import GaussianNB\n"
   ]
  },
  {
   "cell_type": "code",
   "execution_count": 36,
   "id": "35f7cd20-5324-4943-9ccb-39be3ca5746c",
   "metadata": {},
   "outputs": [],
   "source": [
    "modelV1 = GaussianNB();"
   ]
  },
  {
   "cell_type": "code",
   "execution_count": 37,
   "id": "9507b353-5447-4529-955e-bc579c77121d",
   "metadata": {},
   "outputs": [],
   "source": [
    "# Training the model\n",
    "modelV1.fit(xTrain,yTrain.ravel());"
   ]
  },
  {
   "cell_type": "code",
   "execution_count": 38,
   "id": "c664fa5a-6920-4611-b9a6-798d376e8c21",
   "metadata": {},
   "outputs": [],
   "source": [
    "\n",
    "from sklearn import metrics\n"
   ]
  },
  {
   "cell_type": "code",
   "execution_count": 40,
   "id": "d2766185-c575-4bec-be4c-4384b83127d5",
   "metadata": {},
   "outputs": [
    {
     "name": "stdout",
     "output_type": "stream",
     "text": [
      "Accuracy: 0.7542\n",
      "\n"
     ]
    }
   ],
   "source": [
    "# checking the accuracy in the training data model\n",
    "nb_predict_train = modelV1.predict(xTrain);\n",
    "print(\"Accuracy: {0:.4f}\".format(metrics.accuracy_score(yTrain,nb_predict_train)))\n",
    "print()"
   ]
  },
  {
   "cell_type": "code",
   "execution_count": 44,
   "id": "0c095844-dd28-46dc-bb69-0626c5275600",
   "metadata": {},
   "outputs": [
    {
     "name": "stdout",
     "output_type": "stream",
     "text": [
      "Accuracy: 0.7359\n",
      "\n"
     ]
    }
   ],
   "source": [
    "# checking the accuracy in the test data model\n",
    "nb_predict_test = modelV1.predict(xTest);\n",
    "print(\"Accuracy: {0:.4f}\".format(metrics.accuracy_score(yTest,nb_predict_test)))\n",
    "print()"
   ]
  },
  {
   "cell_type": "code",
   "execution_count": 46,
   "id": "882e03fe-8735-4b9c-b80b-3b196cc9a576",
   "metadata": {},
   "outputs": [
    {
     "name": "stdout",
     "output_type": "stream",
     "text": [
      "Confusion Matrix \n",
      "[[ 52  28]\n",
      " [ 33 118]]\n",
      "\n",
      "Classification Report \n",
      "              precision    recall  f1-score   support\n",
      "\n",
      "           1       0.61      0.65      0.63        80\n",
      "           0       0.81      0.78      0.79       151\n",
      "\n",
      "    accuracy                           0.74       231\n",
      "   macro avg       0.71      0.72      0.71       231\n",
      "weighted avg       0.74      0.74      0.74       231\n",
      "\n"
     ]
    }
   ],
   "source": [
    "# creating the confusion matrix\n",
    "print(\"Confusion Matrix \");\n",
    "print(\"{0}\".format(metrics.confusion_matrix(yTest,nb_predict_test , labels= [1,0])))\n",
    "print(\"\")\n",
    "\n",
    "print(\"Classification Report \");\n",
    "print(\"{0}\".format(metrics.classification_report(yTest,nb_predict_test , labels= [1,0])))"
   ]
  },
  {
   "cell_type": "code",
   "execution_count": 47,
   "id": "42019fd1-54e1-4fd3-bda2-c012621c9446",
   "metadata": {},
   "outputs": [],
   "source": [
    "# MODEL OPTIMIZATION WITH RANDOM FOREST\n",
    "from sklearn.ensemble import RandomForestClassifier"
   ]
  },
  {
   "cell_type": "code",
   "execution_count": 54,
   "id": "ad929bb3-1582-42f6-94d7-809076ed9bf9",
   "metadata": {},
   "outputs": [],
   "source": [
    "modelV2 = RandomForestClassifier(random_state = 42);\n",
    "modelV2.fit(xTrain,yTrain.ravel());"
   ]
  },
  {
   "cell_type": "code",
   "execution_count": 55,
   "id": "acc2d150-8c11-4be8-8477-9d0b63c30ca4",
   "metadata": {},
   "outputs": [
    {
     "name": "stdout",
     "output_type": "stream",
     "text": [
      "Accuracy: 1.0000\n",
      "\n"
     ]
    }
   ],
   "source": [
    "# checking the accuracy in the training data model\n",
    "rf_predict_train = modelV2.predict(xTrain);\n",
    "print(\"Accuracy: {0:.4f}\".format(metrics.accuracy_score(yTrain,rf_predict_train)))\n",
    "print()"
   ]
  },
  {
   "cell_type": "code",
   "execution_count": 56,
   "id": "703336d1-0877-48c3-8cd5-a53a3ea8ed80",
   "metadata": {},
   "outputs": [
    {
     "name": "stdout",
     "output_type": "stream",
     "text": [
      "Accuracy: 0.7403\n",
      "\n"
     ]
    }
   ],
   "source": [
    "# checking the accuracy in the test data model\n",
    "rf_predict_test = modelV2.predict(xTest);\n",
    "print(\"Accuracy: {0:.4f}\".format(metrics.accuracy_score(yTest,rf_predict_test)))\n",
    "print()"
   ]
  },
  {
   "cell_type": "code",
   "execution_count": null,
   "id": "1f351398-e6e5-4c59-8486-3c7c85527124",
   "metadata": {},
   "outputs": [],
   "source": []
  }
 ],
 "metadata": {
  "kernelspec": {
   "display_name": "Python 3",
   "language": "python",
   "name": "python3"
  },
  "language_info": {
   "codemirror_mode": {
    "name": "ipython",
    "version": 3
   },
   "file_extension": ".py",
   "mimetype": "text/x-python",
   "name": "python",
   "nbconvert_exporter": "python",
   "pygments_lexer": "ipython3",
   "version": "3.8.8"
  }
 },
 "nbformat": 4,
 "nbformat_minor": 5
}
